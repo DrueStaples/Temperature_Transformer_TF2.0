{
  "nbformat": 4,
  "nbformat_minor": 0,
  "metadata": {
    "colab": {
      "name": "Temperature_Transformer.ipynb",
      "version": "0.3.2",
      "provenance": [],
      "collapsed_sections": [],
      "include_colab_link": true
    },
    "kernelspec": {
      "name": "python3",
      "display_name": "Python 3"
    }
  },
  "cells": [
    {
      "cell_type": "markdown",
      "metadata": {
        "id": "view-in-github",
        "colab_type": "text"
      },
      "source": [
        "<a href=\"https://colab.research.google.com/github/DrueStaples/Temperature_Transformer_TF2.0/blob/master/Temperature_Transformer.ipynb\" target=\"_parent\"><img src=\"https://colab.research.google.com/assets/colab-badge.svg\" alt=\"Open In Colab\"/></a>"
      ]
    },
    {
      "metadata": {
        "id": "ezW7tEBx7o3t",
        "colab_type": "text"
      },
      "cell_type": "markdown",
      "source": [
        "#Welcome! Here, we will train a model to convert Celsius to Fahrenheit! Enjoy!"
      ]
    },
    {
      "metadata": {
        "id": "EWQv5OPH--Au",
        "colab_type": "text"
      },
      "cell_type": "markdown",
      "source": [
        "1.) Import the packages"
      ]
    },
    {
      "metadata": {
        "id": "cyR3-EJP7wIM",
        "colab_type": "code",
        "colab": {}
      },
      "cell_type": "code",
      "source": [
        "from __future__ import absolute_import, division, print_function, unicode_literals\n",
        "#unicode_literals makes our code cross-python compatible\n",
        "import tensorflow as tf\n",
        "tf.logging.set_verbosity(tf.logging.ERROR)\n",
        "#Sets the threshold for what messages will be logged.\n",
        "\n",
        "import numpy as np"
      ],
      "execution_count": 0,
      "outputs": []
    },
    {
      "metadata": {
        "id": "UoeVUFXo_B9K",
        "colab_type": "text"
      },
      "cell_type": "markdown",
      "source": [
        "2.) Set up the training data. We are using 7 features and labels. The formula we will be using for the conversion is  **Fahrenheit = Celsius * 1.8 + 32**"
      ]
    },
    {
      "metadata": {
        "id": "lbZoqBmF9Vfp",
        "colab_type": "code",
        "outputId": "a3199daf-b0aa-4bf4-836f-212d79ab48db",
        "colab": {
          "base_uri": "https://localhost:8080/",
          "height": 145
        }
      },
      "cell_type": "code",
      "source": [
        "celsius = np.array([-40, -10, 0, 8, 15, 22, 38], dtype=float)\n",
        "fahrenheit = np.array([-40, 14, 32, 46, 59, 72, 100], dtype=float)\n",
        "\n",
        "for i,v in enumerate(celsius):\n",
        "  print(f'{v} degrees Celsius = {fahrenheit[i]} degrees Fahrenheit')"
      ],
      "execution_count": 0,
      "outputs": [
        {
          "output_type": "stream",
          "text": [
            "-40.0 degrees Celsius = -40.0 degrees Fahrenheit\n",
            "-10.0 degrees Celsius = 14.0 degrees Fahrenheit\n",
            "0.0 degrees Celsius = 32.0 degrees Fahrenheit\n",
            "8.0 degrees Celsius = 46.0 degrees Fahrenheit\n",
            "15.0 degrees Celsius = 59.0 degrees Fahrenheit\n",
            "22.0 degrees Celsius = 72.0 degrees Fahrenheit\n",
            "38.0 degrees Celsius = 100.0 degrees Fahrenheit\n"
          ],
          "name": "stdout"
        }
      ]
    },
    {
      "metadata": {
        "id": "nF1P_mH8Bdmq",
        "colab_type": "text"
      },
      "cell_type": "markdown",
      "source": [
        "3.) Construct our model"
      ]
    },
    {
      "metadata": {
        "id": "Clblngw-_7S1",
        "colab_type": "code",
        "colab": {}
      },
      "cell_type": "code",
      "source": [
        "Layer_1 = tf.keras.layers.Dense(units=1, input_shape=[1])\n",
        "\n",
        "model = tf.keras.Sequential([Layer_1])\n",
        "\n",
        "#model = tf.keras.Sequential([\n",
        " #   tf.keras.layers.Dense(units=1, input_shape=[1])\n",
        "#])"
      ],
      "execution_count": 0,
      "outputs": []
    },
    {
      "metadata": {
        "id": "lHWbj__-CPhb",
        "colab_type": "text"
      },
      "cell_type": "markdown",
      "source": [
        "4.) Compile the model with an optimizer and loss function"
      ]
    },
    {
      "metadata": {
        "id": "VI8KEINOB8Mw",
        "colab_type": "code",
        "colab": {}
      },
      "cell_type": "code",
      "source": [
        "model.compile(loss='mean_squared_error',\n",
        "             optimizer=tf.keras.optimizers.Adam(0.1)) #optimizers usually range from .001(default) and 0.1"
      ],
      "execution_count": 0,
      "outputs": []
    },
    {
      "metadata": {
        "id": "dJ7MCU3IDCHZ",
        "colab_type": "text"
      },
      "cell_type": "markdown",
      "source": [
        "5.) Train the model"
      ]
    },
    {
      "metadata": {
        "id": "3fQTJlMmCpOR",
        "colab_type": "code",
        "outputId": "76d5c315-467a-4112-eb38-badd6c5a422e",
        "colab": {
          "base_uri": "https://localhost:8080/",
          "height": 35
        }
      },
      "cell_type": "code",
      "source": [
        "training = model.fit(celsius, fahrenheit, epochs=500, verbose=False)\n",
        "print('We have finished!')"
      ],
      "execution_count": 0,
      "outputs": [
        {
          "output_type": "stream",
          "text": [
            "We have finished!\n"
          ],
          "name": "stdout"
        }
      ]
    },
    {
      "metadata": {
        "id": "dXrSGU8mFmYa",
        "colab_type": "text"
      },
      "cell_type": "markdown",
      "source": [
        "Let's display a plot graph of the training!"
      ]
    },
    {
      "metadata": {
        "id": "mdxsSxH8FFqi",
        "colab_type": "code",
        "outputId": "5967743a-391c-4a4b-ec4c-719c4ecc1cae",
        "colab": {
          "base_uri": "https://localhost:8080/",
          "height": 379
        }
      },
      "cell_type": "code",
      "source": [
        "import matplotlib.pyplot as plt\n",
        "plt.xlabel('Number of Epochs')\n",
        "plt.ylabel('Our Loss')\n",
        "plt.plot(training.history['loss'])"
      ],
      "execution_count": 0,
      "outputs": [
        {
          "output_type": "execute_result",
          "data": {
            "text/plain": [
              "[<matplotlib.lines.Line2D at 0x7f8e25264ba8>]"
            ]
          },
          "metadata": {
            "tags": []
          },
          "execution_count": 39
        },
        {
          "output_type": "display_data",
          "data": {
            "image/png": "[encoded data removed]",
            "text/plain": [
              "<Figure size 576x396 with 1 Axes>"
            ]
          },
          "metadata": {
            "tags": []
          }
        }
      ]
    },
    {
      "metadata": {
        "id": "VA68rVTKHlem",
        "colab_type": "text"
      },
      "cell_type": "markdown",
      "source": [
        "6.) Test our model to see how well it generalizes "
      ]
    },
    {
      "metadata": {
        "id": "yACpENWGGK0U",
        "colab_type": "code",
        "outputId": "82c29bfd-6449-43a2-c049-1a815e626adc",
        "colab": {
          "base_uri": "https://localhost:8080/",
          "height": 35
        }
      },
      "cell_type": "code",
      "source": [
        "print(model.predict([269.0])) \n",
        "#269 degrees celsius should equate to 516.2 degrees fahrenheit"
      ],
      "execution_count": 0,
      "outputs": [
        {
          "output_type": "stream",
          "text": [
            "[[520.36273]]\n"
          ],
          "name": "stdout"
        }
      ]
    },
    {
      "metadata": {
        "id": "_zed2fDGcF9w",
        "colab_type": "text"
      },
      "cell_type": "markdown",
      "source": [
        "As you can see, we were pretty close!"
      ]
    },
    {
      "metadata": {
        "id": "JzHhjHcAPECJ",
        "colab_type": "text"
      },
      "cell_type": "markdown",
      "source": [
        "Now, let's print out the weights of our variables!"
      ]
    },
    {
      "metadata": {
        "id": "-kTt9xX4IWtO",
        "colab_type": "code",
        "outputId": "29a5281d-929b-4a05-d030-59ab87d1004d",
        "colab": {
          "base_uri": "https://localhost:8080/",
          "height": 35
        }
      },
      "cell_type": "code",
      "source": [
        "print(f'Layer variables: {Layer_1.get_weights()}')"
      ],
      "execution_count": 0,
      "outputs": [
        {
          "output_type": "stream",
          "text": [
            "Layer variables: [array([[1.8289071]], dtype=float32), array([28.3867], dtype=float32)]\n"
          ],
          "name": "stdout"
        }
      ]
    },
    {
      "metadata": {
        "id": "02F0bAN1RK4U",
        "colab_type": "text"
      },
      "cell_type": "markdown",
      "source": [
        "To recall, our equation is **F = C * 1.8 +32**, therefore our weights should be 1.8 and 32. Notice above, our floats were pretty close with weighted values of 1.8 and 28. "
      ]
    },
    {
      "metadata": {
        "id": "ht7GJQywSf52",
        "colab_type": "text"
      },
      "cell_type": "markdown",
      "source": [
        "Now let's make our NN more dense with 3 layers!"
      ]
    },
    {
      "metadata": {
        "id": "_yU5fQWPPtSn",
        "colab_type": "code",
        "outputId": "3e8c9323-7990-474f-a459-7a7393b4cb95",
        "colab": {
          "base_uri": "https://localhost:8080/",
          "height": 235
        }
      },
      "cell_type": "code",
      "source": [
        "#create layers\n",
        "#start model\n",
        "#compile model\n",
        "#fit model\n",
        "#predictions \n",
        "#print weights for each layer\n",
        "\n",
        "layer_0 = tf.keras.layers.Dense(units=4, input_shape=[1])\n",
        "layer_1 = tf.keras.layers.Dense(units=4)\n",
        "layer_2 = tf.keras.layers.Dense(units=1)\n",
        "model = tf.keras.Sequential([layer_0, layer_1, layer_2])\n",
        "model.compile(optimizer=tf.keras.optimizers.Adam(0.1), loss='mean_squared_error')\n",
        "model.fit(celsius, fahrenheit, epochs=500, verbose=False)\n",
        "print(model.predict([269.0]))\n",
        "print(layer_0.get_weights())\n",
        "print(layer_1.get_weights())\n",
        "print(layer_2.get_weights())"
      ],
      "execution_count": 0,
      "outputs": [
        {
          "output_type": "stream",
          "text": [
            "[[515.6007]]\n",
            "[array([[-0.26643568,  0.72359765,  0.49160826, -0.30326268]],\n",
            "      dtype=float32), array([-3.5208144 ,  3.5314832 , -0.33162206,  2.4510448 ], dtype=float32)]\n",
            "[array([[-1.0937077 ,  0.44414964, -0.43559876,  1.1919323 ],\n",
            "       [ 1.4309438 , -0.80799717, -0.24728252,  0.96417797],\n",
            "       [-0.4137851 ,  0.16779871,  0.01955398, -0.3085369 ],\n",
            "       [ 0.7138708 , -0.47445685, -0.9245303 ,  0.53404534]],\n",
            "      dtype=float32), array([ 3.4105687, -2.550465 , -0.9116453,  1.3983021], dtype=float32)]\n",
            "[array([[ 1.6424125 ],\n",
            "       [-0.6201824 ],\n",
            "       [ 0.00786788],\n",
            "       [ 0.16595633]], dtype=float32), array([3.2356231], dtype=float32)]\n"
          ],
          "name": "stdout"
        }
      ]
    },
    {
      "metadata": {
        "id": "crJna7KRaV4n",
        "colab_type": "text"
      },
      "cell_type": "markdown",
      "source": [
        "#Our generalization output is 515.6 which is closer than before (actual output is 516.2)!\n",
        "#Notice our weights in the arrays aren't near 1.8 or 32. This is because we added more complex layers!\n"
      ]
    }
  ]
}